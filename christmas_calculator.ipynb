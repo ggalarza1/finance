{
  "nbformat": 4,
  "nbformat_minor": 0,
  "metadata": {
    "kernelspec": {
      "display_name": "Python 3",
      "language": "python",
      "name": "python3"
    },
    "language_info": {
      "codemirror_mode": {
        "name": "ipython",
        "version": 3
      },
      "file_extension": ".py",
      "mimetype": "text/x-python",
      "name": "python",
      "nbconvert_exporter": "python",
      "pygments_lexer": "ipython3",
      "version": "3.6.4"
    },
    "colab": {
      "name": "christmas_calculator.ipynb",
      "provenance": []
    }
  },
  "cells": [
    {
      "cell_type": "markdown",
      "metadata": {
        "id": "n9x8fmGHzMDy",
        "colab_type": "text"
      },
      "source": [
        "Christmas Budget Calculator - Find out how much money you should be saving now!"
      ]
    },
    {
      "cell_type": "code",
      "metadata": {
        "id": "ehdvjjJAyvRt",
        "colab_type": "code",
        "colab": {}
      },
      "source": [
        "import dateutil.rrule as rrule\n",
        "from datetime import date"
      ],
      "execution_count": null,
      "outputs": []
    },
    {
      "cell_type": "code",
      "metadata": {
        "id": "AqZiTf4DyvSO",
        "colab_type": "code",
        "colab": {}
      },
      "source": [
        "#This function is finding how many fridays are within the range of 9/1/2020 to 12/18/2020\n",
        "fridays2020 = tuple(rrule.rrule(rrule.WEEKLY,\n",
        "dtstart=date(2020,9,1),\n",
        "until=date(2020,12,18),\n",
        "byweekday=rrule.FR))"
      ],
      "execution_count": null,
      "outputs": []
    },
    {
      "cell_type": "code",
      "metadata": {
        "id": "S8ElcsifyvSs",
        "colab_type": "code",
        "colab": {},
        "outputId": "937eaed8-b3ba-44da-9450-9522643c094e"
      },
      "source": [
        "print(fridays2020)"
      ],
      "execution_count": null,
      "outputs": [
        {
          "output_type": "stream",
          "text": [
            "(datetime.datetime(2020, 9, 4, 0, 0), datetime.datetime(2020, 9, 11, 0, 0), datetime.datetime(2020, 9, 18, 0, 0), datetime.datetime(2020, 9, 25, 0, 0), datetime.datetime(2020, 10, 2, 0, 0), datetime.datetime(2020, 10, 9, 0, 0), datetime.datetime(2020, 10, 16, 0, 0), datetime.datetime(2020, 10, 23, 0, 0), datetime.datetime(2020, 10, 30, 0, 0), datetime.datetime(2020, 11, 6, 0, 0), datetime.datetime(2020, 11, 13, 0, 0), datetime.datetime(2020, 11, 20, 0, 0), datetime.datetime(2020, 11, 27, 0, 0), datetime.datetime(2020, 12, 4, 0, 0), datetime.datetime(2020, 12, 11, 0, 0), datetime.datetime(2020, 12, 18, 0, 0))\n"
          ],
          "name": "stdout"
        }
      ]
    },
    {
      "cell_type": "code",
      "metadata": {
        "id": "VkhXbRGlyvTO",
        "colab_type": "code",
        "colab": {},
        "outputId": "88b937c1-7db0-4885-b127-0254cd709ee7"
      },
      "source": [
        "#This function is counting how many fridays are from now until the week before Christmas\n",
        "friday=len(fridays2020)\n",
        "print(friday)"
      ],
      "execution_count": null,
      "outputs": [
        {
          "output_type": "stream",
          "text": [
            "16\n"
          ],
          "name": "stdout"
        }
      ]
    },
    {
      "cell_type": "code",
      "metadata": {
        "id": "R4fg5WOkyvTi",
        "colab_type": "code",
        "colab": {},
        "outputId": "07432073-1f80-4940-f956-0667205905d7"
      },
      "source": [
        "#Answer all the following questions to find out what your budget should be.\n",
        "presents = int(input('How many presents do you need to buy? '))\n",
        "budget= int(input('What is the budget of each present? '))\n",
        "extra= int(input('Do you need more money on the budget for special gifts? If so type it now '))\n",
        "\n",
        "#Equation for budget\n",
        "budget_needed = (presents * budget) + extra\n",
        "print('Budget needed is: $',budget_needed)\n",
        "\n",
        "#Savings per week equation\n",
        "savings_per_week = budget_needed/friday\n",
        "print('The amount needed to save every week is $', savings_per_week)"
      ],
      "execution_count": null,
      "outputs": [
        {
          "output_type": "stream",
          "text": [
            "How many presents do you need to buy? 5\n",
            "What is the budget of each present? 50\n",
            "Do you need more money on the budget for special gifts? If so type it now 50\n",
            "Budget needed is:  300\n",
            "The amount needed to save every week is  18.75\n"
          ],
          "name": "stdout"
        }
      ]
    }
  ]
}
